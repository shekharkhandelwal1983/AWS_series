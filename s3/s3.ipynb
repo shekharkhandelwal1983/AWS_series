{
 "cells": [
  {
   "cell_type": "code",
   "execution_count": 30,
   "id": "9b756a4e-f2c9-42c8-ad8b-9a27f9f7fdd7",
   "metadata": {},
   "outputs": [
    {
     "name": "stdout",
     "output_type": "stream",
     "text": [
      "<Response [403]>\n",
      "{'message': 'Forbidden'}\n"
     ]
    }
   ],
   "source": [
    "import requests\n",
    "\n",
    "url = \"https://ld7ozio7ng.execute-api.us-east-2.amazonaws.com/default/myFirstLambdaFunction\"\n",
    "my_headers = {'api_key' : 'samplekey'}\n",
    "r = requests.post(url,data={'key1':'value1', 'key2':\"value2\", 'key3':'value1'}, headers=my_headers)\n",
    "print(r)\n",
    "print(r.json())"
   ]
  },
  {
   "cell_type": "code",
   "execution_count": 32,
   "id": "e95f8606-f38e-40a5-a1b7-cf1cb1439f66",
   "metadata": {},
   "outputs": [
    {
     "name": "stdout",
     "output_type": "stream",
     "text": [
      "<Response [200]>\n",
      "Hello from Lambda!\n"
     ]
    }
   ],
   "source": [
    "import requests\n",
    "url = \"https://ryv7b6l14f.execute-api.us-east-2.amazonaws.com/default/myFirstLambdaFunction\"\n",
    "r = requests.post(url,data={'key1':'value1', 'key2':\"value2\", 'key3':'value1'})\n",
    "print(r)\n",
    "print(r.json())"
   ]
  },
  {
   "cell_type": "code",
   "execution_count": 36,
   "id": "35446661-2093-4756-a1a2-df8a20f392ca",
   "metadata": {},
   "outputs": [
    {
     "name": "stdout",
     "output_type": "stream",
     "text": [
      "Collecting boto3\n",
      "  Using cached boto3-1.20.37-py3-none-any.whl (131 kB)\n",
      "Collecting s3transfer<0.6.0,>=0.5.0\n",
      "  Using cached s3transfer-0.5.0-py3-none-any.whl (79 kB)\n",
      "Collecting jmespath<1.0.0,>=0.7.1\n",
      "  Using cached jmespath-0.10.0-py2.py3-none-any.whl (24 kB)\n",
      "Collecting botocore<1.24.0,>=1.23.37\n",
      "  Using cached botocore-1.23.37-py3-none-any.whl (8.5 MB)\n",
      "Requirement already satisfied: python-dateutil<3.0.0,>=2.1 in c:\\users\\uz763fb\\anaconda3\\lib\\site-packages (from botocore<1.24.0,>=1.23.37->boto3) (2.8.1)\n",
      "Requirement already satisfied: urllib3<1.27,>=1.25.4 in c:\\users\\uz763fb\\anaconda3\\lib\\site-packages (from botocore<1.24.0,>=1.23.37->boto3) (1.26.4)\n",
      "Requirement already satisfied: six>=1.5 in c:\\users\\uz763fb\\anaconda3\\lib\\site-packages (from python-dateutil<3.0.0,>=2.1->botocore<1.24.0,>=1.23.37->boto3) (1.16.0)\n",
      "Installing collected packages: jmespath, botocore, s3transfer, boto3\n",
      "Successfully installed boto3-1.20.37 botocore-1.23.37 jmespath-0.10.0 s3transfer-0.5.0\n"
     ]
    }
   ],
   "source": [
    "!pip install boto3"
   ]
  },
  {
   "cell_type": "code",
   "execution_count": 37,
   "id": "be1a5ab9-e3ee-425d-8219-c793a486ec23",
   "metadata": {},
   "outputs": [
    {
     "name": "stdout",
     "output_type": "stream",
     "text": [
      "Collecting boto3\n",
      "  Downloading boto3-1.20.37-py3-none-any.whl (131 kB)\n",
      "Collecting s3fs\n",
      "  Downloading s3fs-2022.1.0-py3-none-any.whl (25 kB)\n",
      "Collecting s3transfer<0.6.0,>=0.5.0\n",
      "  Downloading s3transfer-0.5.0-py3-none-any.whl (79 kB)\n",
      "Collecting botocore<1.24.0,>=1.23.37\n",
      "  Downloading botocore-1.23.37-py3-none-any.whl (8.5 MB)\n",
      "Collecting jmespath<1.0.0,>=0.7.1\n",
      "  Downloading jmespath-0.10.0-py2.py3-none-any.whl (24 kB)\n",
      "Requirement already satisfied: urllib3<1.27,>=1.25.4 in c:\\users\\uz763fb\\anaconda3\\lib\\site-packages (from botocore<1.24.0,>=1.23.37->boto3) (1.26.4)\n",
      "Requirement already satisfied: python-dateutil<3.0.0,>=2.1 in c:\\users\\uz763fb\\anaconda3\\lib\\site-packages (from botocore<1.24.0,>=1.23.37->boto3) (2.8.1)\n",
      "Requirement already satisfied: six>=1.5 in c:\\users\\uz763fb\\anaconda3\\lib\\site-packages (from python-dateutil<3.0.0,>=2.1->botocore<1.24.0,>=1.23.37->boto3) (1.16.0)\n",
      "Collecting fsspec==2022.01.0\n",
      "  Downloading fsspec-2022.1.0-py3-none-any.whl (133 kB)\n",
      "Collecting aiobotocore~=2.1.0\n",
      "  Downloading aiobotocore-2.1.0.tar.gz (54 kB)\n",
      "Collecting aiohttp<=4\n",
      "  Downloading aiohttp-3.8.1-cp38-cp38-win_amd64.whl (555 kB)\n",
      "INFO: pip is looking at multiple versions of fsspec to determine which version is compatible with other requirements. This could take a while.\n",
      "INFO: pip is looking at multiple versions of s3fs to determine which version is compatible with other requirements. This could take a while.\n",
      "Collecting s3fs\n",
      "  Downloading s3fs-2021.11.1-py3-none-any.whl (25 kB)\n",
      "  Downloading s3fs-2021.11.0-py3-none-any.whl (25 kB)\n",
      "  Downloading s3fs-2021.10.1-py3-none-any.whl (26 kB)\n",
      "  Downloading s3fs-2021.10.0-py3-none-any.whl (26 kB)\n",
      "  Downloading s3fs-2021.9.0-py3-none-any.whl (26 kB)\n",
      "  Downloading s3fs-2021.8.1-py3-none-any.whl (26 kB)\n",
      "  Downloading s3fs-2021.8.0-py3-none-any.whl (26 kB)\n",
      "  Downloading s3fs-2021.7.0-py3-none-any.whl (25 kB)\n",
      "  Downloading s3fs-2021.6.1-py3-none-any.whl (25 kB)\n",
      "  Downloading s3fs-2021.6.0-py3-none-any.whl (24 kB)\n",
      "  Downloading s3fs-2021.5.0-py3-none-any.whl (24 kB)\n",
      "  Downloading s3fs-2021.4.0-py3-none-any.whl (23 kB)\n",
      "  Downloading s3fs-0.6.0-py3-none-any.whl (23 kB)\n",
      "  Downloading s3fs-0.5.2-py3-none-any.whl (22 kB)\n",
      "  Downloading s3fs-0.5.1-py3-none-any.whl (21 kB)\n",
      "  Downloading s3fs-0.5.0-py3-none-any.whl (21 kB)\n",
      "  Downloading s3fs-0.4.2-py3-none-any.whl (19 kB)\n",
      "  Downloading s3fs-0.4.1-py3-none-any.whl (19 kB)\n",
      "  Downloading s3fs-0.4.0-py3-none-any.whl (18 kB)\n",
      "  Downloading s3fs-0.3.5.tar.gz (46 kB)\n",
      "  Downloading s3fs-0.3.4-py3-none-any.whl (18 kB)\n",
      "  Downloading s3fs-0.3.3.tar.gz (45 kB)\n",
      "  Downloading s3fs-0.3.2.tar.gz (45 kB)\n",
      "  Downloading s3fs-0.3.1.tar.gz (44 kB)\n",
      "  Downloading s3fs-0.3.0.tar.gz (44 kB)\n",
      "  Downloading s3fs-0.2.2.tar.gz (47 kB)\n",
      "  Downloading s3fs-0.2.1.tar.gz (46 kB)\n",
      "  Downloading s3fs-0.2.0.tar.gz (46 kB)\n",
      "  Downloading s3fs-0.1.6.tar.gz (45 kB)\n",
      "  Downloading s3fs-0.1.5.tar.gz (27 kB)\n",
      "  Downloading s3fs-0.1.4.tar.gz (25 kB)\n",
      "  Downloading s3fs-0.1.3-py2.py3-none-any.whl (17 kB)\n",
      "  Downloading s3fs-0.1.2.tar.gz (24 kB)\n",
      "  Downloading s3fs-0.1.1.tar.gz (24 kB)\n",
      "  Downloading s3fs-0.1.0-py2.py3-none-any.whl (15 kB)\n",
      "  Downloading s3fs-0.0.9-py2.py3-none-any.whl (15 kB)\n",
      "  Downloading s3fs-0.0.8-py2.py3-none-any.whl (14 kB)\n",
      "  Downloading s3fs-0.0.7-py2.py3-none-any.whl (14 kB)\n",
      "  Downloading s3fs-0.0.6-py2.py3-none-any.whl (13 kB)\n",
      "  Downloading s3fs-0.0.5-py2.py3-none-any.whl (13 kB)\n",
      "  Downloading s3fs-0.0.4-py2.py3-none-any.whl (11 kB)\n",
      "  Downloading s3fs-0.0.2-py2.py3-none-any.whl (10 kB)\n",
      "  Downloading s3fs-0.0.1-py2.py3-none-any.whl (10 kB)\n",
      "Collecting aiobotocore~=2.0.1\n",
      "  Downloading aiobotocore-2.0.1.tar.gz (54 kB)\n",
      "Collecting fsspec==2021.11.1\n",
      "  Downloading fsspec-2021.11.1-py3-none-any.whl (132 kB)\n",
      "Collecting aiobotocore~=1.4.1\n",
      "  Downloading aiobotocore-1.4.2.tar.gz (52 kB)\n",
      "Collecting fsspec==2021.11.0\n",
      "  Downloading fsspec-2021.11.0-py3-none-any.whl (132 kB)\n",
      "Collecting aiobotocore~=1.4.1\n",
      "  Downloading aiobotocore-1.4.1.tar.gz (52 kB)\n",
      "Collecting fsspec==2021.10.1\n",
      "  Downloading fsspec-2021.10.1-py3-none-any.whl (125 kB)\n",
      "Collecting fsspec==2021.10.0\n",
      "  Downloading fsspec-2021.10.0-py3-none-any.whl (125 kB)\n",
      "Collecting fsspec==2021.09.0\n",
      "  Downloading fsspec-2021.9.0-py3-none-any.whl (123 kB)\n",
      "Collecting fsspec==2021.08.1\n",
      "  Downloading fsspec-2021.8.1-py3-none-any.whl (119 kB)\n",
      "Collecting aiobotocore~=1.4.0\n",
      "  Downloading aiobotocore-1.4.0.tar.gz (51 kB)\n",
      "Collecting fsspec==2021.07.0\n",
      "  Downloading fsspec-2021.7.0-py3-none-any.whl (118 kB)\n",
      "INFO: pip is looking at multiple versions of fsspec to determine which version is compatible with other requirements. This could take a while.\n",
      "INFO: pip is looking at multiple versions of s3fs to determine which version is compatible with other requirements. This could take a while.\n",
      "Collecting aiobotocore>=1.0.1\n",
      "  Downloading aiobotocore-2.0.0.tar.gz (52 kB)\n",
      "  Downloading aiobotocore-1.3.3.tar.gz (50 kB)\n",
      "  Downloading aiobotocore-1.3.2.tar.gz (49 kB)\n",
      "  Downloading aiobotocore-1.3.1.tar.gz (48 kB)\n",
      "  Downloading aiobotocore-1.3.0.tar.gz (48 kB)\n",
      "  Downloading aiobotocore-1.2.2.tar.gz (48 kB)\n",
      "  Downloading aiobotocore-1.2.1.tar.gz (48 kB)\n",
      "  Downloading aiobotocore-1.2.0.tar.gz (47 kB)\n",
      "  Downloading aiobotocore-1.1.2-py3-none-any.whl (45 kB)\n",
      "  Downloading aiobotocore-1.1.1-py3-none-any.whl (45 kB)\n",
      "  Downloading aiobotocore-1.1.0-py3-none-any.whl (43 kB)\n",
      "  Downloading aiobotocore-1.0.7-py3-none-any.whl (42 kB)\n",
      "  Downloading aiobotocore-1.0.6-py3-none-any.whl (42 kB)\n",
      "  Downloading aiobotocore-1.0.5-py3-none-any.whl (42 kB)\n",
      "  Downloading aiobotocore-1.0.4-py3-none-any.whl (41 kB)\n",
      "  Downloading aiobotocore-1.0.3-py3-none-any.whl (40 kB)\n",
      "  Downloading aiobotocore-1.0.2-py3-none-any.whl (40 kB)\n",
      "  Downloading aiobotocore-1.0.1-py3-none-any.whl (40 kB)\n",
      "Collecting fsspec==2021.06.1\n",
      "  Downloading fsspec-2021.6.1-py3-none-any.whl (115 kB)\n",
      "Collecting fsspec==2021.06.0\n",
      "  Downloading fsspec-2021.6.0-py3-none-any.whl (114 kB)\n",
      "Collecting fsspec==2021.05.0\n",
      "  Downloading fsspec-2021.5.0-py3-none-any.whl (111 kB)\n",
      "Collecting fsspec==2021.04.0\n",
      "  Downloading fsspec-2021.4.0-py3-none-any.whl (108 kB)\n",
      "INFO: This is taking longer than usual. You might need to provide the dependency resolver with stricter constraints to reduce runtime. If you want to abort this run, you can press Ctrl + C to do so. To improve how pip performs, tell us what happened here: https://pip.pypa.io/surveys/backtracking\n",
      "INFO: This is taking longer than usual. You might need to provide the dependency resolver with stricter constraints to reduce runtime. If you want to abort this run, you can press Ctrl + C to do so. To improve how pip performs, tell us what happened here: https://pip.pypa.io/surveys/backtracking\n",
      "Requirement already satisfied: fsspec>=0.8.0 in c:\\users\\uz763fb\\anaconda3\\lib\\site-packages (from s3fs) (0.9.0)\n",
      "Installing collected packages: jmespath, botocore, s3transfer, s3fs, boto3\n",
      "Successfully installed boto3-1.20.37 botocore-1.23.37 jmespath-0.10.0 s3fs-0.4.2 s3transfer-0.5.0\n"
     ]
    },
    {
     "name": "stderr",
     "output_type": "stream",
     "text": [
      "\n",
      "Usage:   \n",
      "  pip install [options] <requirement specifier> [package-index-options] ...\n",
      "  pip install [options] -r <requirements file> [package-index-options] ...\n",
      "  pip install [options] [-e] <vcs project url> ...\n",
      "  pip install [options] [-e] <local project path> ...\n",
      "  pip install [options] <archive url/path> ...\n",
      "\n",
      "no such option: -m\n"
     ]
    }
   ],
   "source": [
    "!pip install -m pandas \"s3fs<=0.4\""
   ]
  },
  {
   "cell_type": "code",
   "execution_count": 3,
   "id": "90f56845-d0b7-41a9-bea9-257b7b6704e4",
   "metadata": {},
   "outputs": [],
   "source": [
    "import io\n",
    "import os\n",
    "\n",
    "import boto3\n",
    "import pandas as pd"
   ]
  },
  {
   "cell_type": "code",
   "execution_count": 2,
   "id": "5df065e7-caf0-4e9e-bfc9-63ca7398d8a5",
   "metadata": {},
   "outputs": [],
   "source": [
    "AWS_S3_BUCKET = \"samplebucket1303\"\n",
    "AWS_ACCESS_KEY_ID = \"samplekey\"\n",
    "AWS_SECRET_ACCESS_KEY  = \"samplekey\""
   ]
  },
  {
   "cell_type": "code",
   "execution_count": 4,
   "id": "54dc5595-153d-4250-ad79-881c4dbf89c5",
   "metadata": {},
   "outputs": [],
   "source": [
    "s3_client = boto3.client(\n",
    "    \"s3\",\n",
    "    aws_access_key_id=AWS_ACCESS_KEY_ID,\n",
    "    aws_secret_access_key=AWS_SECRET_ACCESS_KEY,\n",
    "    )"
   ]
  },
  {
   "cell_type": "code",
   "execution_count": 5,
   "id": "f80bca79-78ba-4e0b-b848-40282414024e",
   "metadata": {},
   "outputs": [],
   "source": [
    "df = pd.read_csv(\"Language Detection.csv\")"
   ]
  },
  {
   "cell_type": "code",
   "execution_count": 10,
   "id": "cdb1533b-0b99-4de4-949c-4eea01996acf",
   "metadata": {},
   "outputs": [
    {
     "name": "stdout",
     "output_type": "stream",
     "text": [
      "Successful S3 put_object response. Status - 200\n"
     ]
    }
   ],
   "source": [
    "with io.StringIO() as csv_buffer:\n",
    "    df.to_csv(csv_buffer, index=False)\n",
    "\n",
    "    response = s3_client.put_object(\n",
    "        Bucket=AWS_S3_BUCKET, Key=\"Language_Detection_boto3.csv\", Body=csv_buffer.getvalue()\n",
    "    )\n",
    "   \n",
    "    status = response.get(\"ResponseMetadata\", {}).get(\"HTTPStatusCode\")\n",
    "\n",
    "    if status == 200:\n",
    "        print(f\"Successful S3 put_object response. Status - {status}\")\n",
    "    else:\n",
    "        print(f\"Unsuccessful S3 put_object response. Status - {status}\")"
   ]
  },
  {
   "cell_type": "code",
   "execution_count": 13,
   "id": "358f1791-f3ad-49b4-8a57-ac7a8c189f65",
   "metadata": {},
   "outputs": [],
   "source": [
    "df.to_csv(\n",
    "    f\"s3://{AWS_S3_BUCKET}/Language_Detection_s3fs.csv\",\n",
    "    index=False,\n",
    "    storage_options={\n",
    "        \"key\": AWS_ACCESS_KEY_ID,\n",
    "        \"secret\": AWS_SECRET_ACCESS_KEY,\n",
    "        }\n",
    ")"
   ]
  },
  {
   "cell_type": "code",
   "execution_count": null,
   "id": "cfa8ee32-c35f-4871-be3b-0e6735bbe78b",
   "metadata": {},
   "outputs": [],
   "source": []
  },
  {
   "cell_type": "code",
   "execution_count": null,
   "id": "1676f122-e23d-4111-ac4c-c5461334a0ad",
   "metadata": {},
   "outputs": [],
   "source": []
  },
  {
   "cell_type": "code",
   "execution_count": 14,
   "id": "86d2a362-9300-4223-826b-fddb122aad52",
   "metadata": {},
   "outputs": [],
   "source": []
  },
  {
   "cell_type": "code",
   "execution_count": 15,
   "id": "c6f0d224-cc81-4e5d-b93d-18367cf0f92f",
   "metadata": {},
   "outputs": [
    {
     "data": {
      "text/plain": [
       "{'ResponseMetadata': {'RequestId': 'VDGSK9PBNKVZ2G1T',\n",
       "  'HostId': 'DsD82Dc+hRS6gPiTRusTu011uoBq9Rtrrzrvv+s5Eikwf6ysAZFNZYFZYdoHzDsBPXyFzlRHtzM=',\n",
       "  'HTTPStatusCode': 200,\n",
       "  'HTTPHeaders': {'x-amz-id-2': 'DsD82Dc+hRS6gPiTRusTu011uoBq9Rtrrzrvv+s5Eikwf6ysAZFNZYFZYdoHzDsBPXyFzlRHtzM=',\n",
       "   'x-amz-request-id': 'VDGSK9PBNKVZ2G1T',\n",
       "   'date': 'Sun, 16 Jan 2022 18:05:27 GMT',\n",
       "   'last-modified': 'Sun, 16 Jan 2022 17:58:03 GMT',\n",
       "   'etag': '\"82d33d95b43e937ef447a2f8dcb0b046\"',\n",
       "   'accept-ranges': 'bytes',\n",
       "   'content-type': 'binary/octet-stream',\n",
       "   'server': 'AmazonS3',\n",
       "   'content-length': '1911016'},\n",
       "  'RetryAttempts': 0},\n",
       " 'AcceptRanges': 'bytes',\n",
       " 'LastModified': datetime.datetime(2022, 1, 16, 17, 58, 3, tzinfo=tzutc()),\n",
       " 'ContentLength': 1911016,\n",
       " 'ETag': '\"82d33d95b43e937ef447a2f8dcb0b046\"',\n",
       " 'ContentType': 'binary/octet-stream',\n",
       " 'Metadata': {},\n",
       " 'Body': <botocore.response.StreamingBody at 0x25a60c6d610>}"
      ]
     },
     "execution_count": 15,
     "metadata": {},
     "output_type": "execute_result"
    }
   ],
   "source": [
    "response = s3_client.get_object(Bucket=AWS_S3_BUCKET, Key=\"Language_Detection_boto3.csv\")\n",
    "response"
   ]
  },
  {
   "cell_type": "code",
   "execution_count": 17,
   "id": "4bcfd780-12cf-461e-abe8-c338bba63860",
   "metadata": {},
   "outputs": [
    {
     "name": "stdout",
     "output_type": "stream",
     "text": [
      "Successful S3 get_object response. Status - 200\n",
      "                                                    Text Language\n",
      "0       Nature, in the broadest sense, is the natural...  English\n",
      "1      \"Nature\" can refer to the phenomena of the phy...  English\n",
      "2      The study of nature is a large, if not the onl...  English\n",
      "3      Although humans are part of nature, human acti...  English\n",
      "4      [1] The word nature is borrowed from the Old F...  English\n",
      "...                                                  ...      ...\n",
      "10332  ನಿಮ್ಮ ತಪ್ಪು ಏನು ಬಂದಿದೆಯೆಂದರೆ ಆ ದಿನದಿಂದ ನಿಮಗೆ ಒ...  Kannada\n",
      "10333  ನಾರ್ಸಿಸಾ ತಾನು ಮೊದಲಿಗೆ ಹೆಣಗಾಡುತ್ತಿದ್ದ ಮಾರ್ಗಗಳನ್...  Kannada\n",
      "10334  ಹೇಗೆ ' ನಾರ್ಸಿಸಿಸಮ್ ಈಗ ಮರಿಯನ್ ಅವರಿಗೆ ಸಂಭವಿಸಿದ ಎ...  Kannada\n",
      "10335  ಅವಳು ಈಗ ಹೆಚ್ಚು ಚಿನ್ನದ ಬ್ರೆಡ್ ಬಯಸುವುದಿಲ್ಲ ಎಂದು ...  Kannada\n",
      "10336  ಟೆರ್ರಿ ನೀವು ನಿಜವಾಗಿಯೂ ಆ ದೇವದೂತನಂತೆ ಸ್ವಲ್ಪ ಕಾಣು...  Kannada\n",
      "\n",
      "[10337 rows x 2 columns]\n"
     ]
    }
   ],
   "source": [
    "status = response.get(\"ResponseMetadata\", {}).get(\"HTTPStatusCode\")\n",
    "\n",
    "if status == 200:\n",
    "    print(f\"Successful S3 get_object response. Status - {status}\")\n",
    "    books_df = pd.read_csv(response.get(\"Body\"))\n",
    "    print(books_df)\n",
    "else:\n",
    "    print(f\"Unsuccessful S3 get_object response. Status - {status}\")"
   ]
  },
  {
   "cell_type": "code",
   "execution_count": 19,
   "id": "6875bbc9-b195-4d8e-9bf7-85b09be0c6b0",
   "metadata": {},
   "outputs": [
    {
     "data": {
      "text/html": [
       "<div>\n",
       "<style scoped>\n",
       "    .dataframe tbody tr th:only-of-type {\n",
       "        vertical-align: middle;\n",
       "    }\n",
       "\n",
       "    .dataframe tbody tr th {\n",
       "        vertical-align: top;\n",
       "    }\n",
       "\n",
       "    .dataframe thead th {\n",
       "        text-align: right;\n",
       "    }\n",
       "</style>\n",
       "<table border=\"1\" class=\"dataframe\">\n",
       "  <thead>\n",
       "    <tr style=\"text-align: right;\">\n",
       "      <th></th>\n",
       "      <th>Text</th>\n",
       "      <th>Language</th>\n",
       "    </tr>\n",
       "  </thead>\n",
       "  <tbody>\n",
       "    <tr>\n",
       "      <th>0</th>\n",
       "      <td>Nature, in the broadest sense, is the natural...</td>\n",
       "      <td>English</td>\n",
       "    </tr>\n",
       "    <tr>\n",
       "      <th>1</th>\n",
       "      <td>\"Nature\" can refer to the phenomena of the phy...</td>\n",
       "      <td>English</td>\n",
       "    </tr>\n",
       "    <tr>\n",
       "      <th>2</th>\n",
       "      <td>The study of nature is a large, if not the onl...</td>\n",
       "      <td>English</td>\n",
       "    </tr>\n",
       "    <tr>\n",
       "      <th>3</th>\n",
       "      <td>Although humans are part of nature, human acti...</td>\n",
       "      <td>English</td>\n",
       "    </tr>\n",
       "    <tr>\n",
       "      <th>4</th>\n",
       "      <td>[1] The word nature is borrowed from the Old F...</td>\n",
       "      <td>English</td>\n",
       "    </tr>\n",
       "  </tbody>\n",
       "</table>\n",
       "</div>"
      ],
      "text/plain": [
       "                                                Text Language\n",
       "0   Nature, in the broadest sense, is the natural...  English\n",
       "1  \"Nature\" can refer to the phenomena of the phy...  English\n",
       "2  The study of nature is a large, if not the onl...  English\n",
       "3  Although humans are part of nature, human acti...  English\n",
       "4  [1] The word nature is borrowed from the Old F...  English"
      ]
     },
     "execution_count": 19,
     "metadata": {},
     "output_type": "execute_result"
    }
   ],
   "source": [
    "df = pd.read_csv(\n",
    "    f\"s3://{AWS_S3_BUCKET}/Language_Detection_s3fs.csv\",\n",
    "    storage_options={\n",
    "        \"key\": AWS_ACCESS_KEY_ID,\n",
    "        \"secret\": AWS_SECRET_ACCESS_KEY,\n",
    "        }\n",
    ")\n",
    "df.head()"
   ]
  },
  {
   "cell_type": "code",
   "execution_count": null,
   "id": "c9070176-ab12-4f95-9f31-13a07a7ae237",
   "metadata": {},
   "outputs": [],
   "source": []
  }
 ],
 "metadata": {
  "kernelspec": {
   "display_name": "Python 3",
   "language": "python",
   "name": "python3"
  },
  "language_info": {
   "codemirror_mode": {
    "name": "ipython",
    "version": 3
   },
   "file_extension": ".py",
   "mimetype": "text/x-python",
   "name": "python",
   "nbconvert_exporter": "python",
   "pygments_lexer": "ipython3",
   "version": "3.8.8"
  }
 },
 "nbformat": 4,
 "nbformat_minor": 5
}
